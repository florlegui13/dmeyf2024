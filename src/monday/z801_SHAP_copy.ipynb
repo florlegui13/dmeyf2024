{
 "cells": [
  {
   "cell_type": "markdown",
   "metadata": {
    "id": "e8XpJxejaRZw"
   },
   "source": [
    "# Interpretando los modelos, conectando con humanos\n",
    "\n",
    "## SHAP Values\n",
    "\n",
    "Veremos brevemente un modelo de interpretabilidad para modelos complejos de machine learning como es un LGBM.\n",
    "\n",
    "Una buena referencia para adentrarse en este mundo: [Interpretable Machine Learning](https://christophm.github.io/interpretable-ml-book/)\n",
    "Empezamos con la instalación y carga de los módulos necesarios:"
   ]
  },
  {
   "cell_type": "code",
   "execution_count": null,
   "metadata": {},
   "outputs": [],
   "source": [
    "%pip install numpy==1.24.4\n",
    "%pip install numba==0.57.1\n",
    "%pip install shap==0.46.0\n",
    "%pip install optuna==3.6.1\n",
    "%pip install scikit-learn==1.3.2\n",
    "%pip install seaborn==0.13.1"
   ]
  },
  {
   "cell_type": "code",
   "execution_count": null,
   "metadata": {
    "colab": {
     "base_uri": "https://localhost:8080/"
    },
    "executionInfo": {
     "elapsed": 5846,
     "status": "ok",
     "timestamp": 1729447103107,
     "user": {
      "displayName": "Alejandro Bolaños",
      "userId": "15513030842131101305"
     },
     "user_tz": 180
    },
    "id": "I6d2e7cMaRZ0",
    "outputId": "7817b67a-f9a5-4674-c15e-029bf29f5f23"
   },
   "outputs": [],
   "source": [
    "import pandas as pd\n",
    "import numpy as np\n",
    "import lightgbm as lgb\n",
    "import shap\n",
    "import seaborn as sns\n",
    "import matplotlib.pyplot as plt\n",
    "\n",
    "from sklearn.model_selection import train_test_split\n",
    "from sklearn.model_selection import ShuffleSplit, StratifiedShuffleSplit\n",
    "from sklearn.ensemble import RandomForestClassifier\n",
    "from sklearn.impute import SimpleImputer\n",
    "\n",
    "import lightgbm as lgb\n",
    "\n",
    "import optuna\n",
    "from optuna.visualization import plot_optimization_history, plot_param_importances, plot_slice, plot_contour\n",
    "\n",
    "from time import time\n",
    "\n",
    "import pickle"
   ]
  },
  {
   "cell_type": "markdown",
   "metadata": {
    "id": "ztnX-i3-aRZ1"
   },
   "source": [
    "Cargamos el dataset. Vamos a trabajar con el primer conjunto de datos.\n"
   ]
  },
  {
   "cell_type": "code",
   "execution_count": null,
   "metadata": {
    "executionInfo": {
     "elapsed": 35847,
     "status": "ok",
     "timestamp": 1729447138952,
     "user": {
      "displayName": "Alejandro Bolaños",
      "userId": "15513030842131101305"
     },
     "user_tz": 180
    },
    "id": "wo_mKHbH_GSE"
   },
   "outputs": [],
   "source": [
    "dataset_path = '~/buckets/b1/datasets/'\n",
    "dataset_file = 'competencia_01_crudo.csv'\n",
    "\n",
    "data = pd.read_csv(dataset_path + dataset_file)"
   ]
  },
  {
   "cell_type": "code",
   "execution_count": null,
   "metadata": {},
   "outputs": [],
   "source": [
    "#Creamos la clase ternaria\n",
    "def periodo_anterior(x):\n",
    "    return x - 1 if x % 100 > 1 else 12 + (x // 100 - 1) * 100\n",
    "\n",
    "data.sort_values(by=['numero_de_cliente', 'foto_mes'], inplace=True)\n",
    "\n",
    "# Calcular los periodos\n",
    "periodo_ultimo = data['foto_mes'].max()\n",
    "periodo_anteultimo = periodo_anterior(periodo_ultimo)\n",
    "\n",
    "# Asignar valores comunes a la clase ternaria\n",
    "data['clase_ternaria'] = data['foto_mes'].apply(lambda x: \"CONTINUA\" if x < periodo_anteultimo else pd.NA)\n",
    "\n",
    "# Precomputar tiempo secuencial\n",
    "data['periodo'] = data['foto_mes'] // 100 * 12 + data['foto_mes'] % 100\n",
    "\n",
    "last = len(data)\n",
    "\n",
    "for i in range(last):\n",
    "    if (data['foto_mes'].iloc[i] <= periodo_anteultimo and i < last - 1 and\n",
    "        (data['numero_de_cliente'].iloc[i] != data['numero_de_cliente'].iloc[i + 1] or\n",
    "         (data['numero_de_cliente'].iloc[i] == data['numero_de_cliente'].iloc[i + 1] and\n",
    "          data['periodo'].iloc[i + 1] > data['periodo'].iloc[i] + 1))):\n",
    "        data['clase_ternaria'].iloc[i] = \"BAJA+1\"\n",
    "\n",
    "    if (data['foto_mes'].iloc[i] < periodo_anteultimo and i < last - 2 and\n",
    "        data['numero_de_cliente'].iloc[i] == data['numero_de_cliente'].iloc[i + 1] and\n",
    "        data['periodo'].iloc[i + 1] == data['periodo'].iloc[i] + 1 and\n",
    "        (data['numero_de_cliente'].iloc[i + 1] != data['numero_de_cliente'].iloc[i + 2] or\n",
    "         (data['numero_de_cliente'].iloc[i + 1] == data['numero_de_cliente'].iloc[i + 2] and\n",
    "          data['periodo'].iloc[i + 2] > data['periodo'].iloc[i + 1] + 2))):\n",
    "        data['clase_ternaria'].iloc[i] = \"BAJA+2\""
   ]
  },
  {
   "cell_type": "code",
   "execution_count": null,
   "metadata": {},
   "outputs": [],
   "source": [
    "data['clase_ternaria'].unique()"
   ]
  },
  {
   "cell_type": "code",
   "execution_count": null,
   "metadata": {},
   "outputs": [],
   "source": [
    "data.head()"
   ]
  },
  {
   "cell_type": "code",
   "execution_count": null,
   "metadata": {},
   "outputs": [],
   "source": [
    "data['mpayroll_sobre_edad'] = data['mpayroll'] / data['cliente_edad']\n",
    "\n",
    "# Variables de sumas\n",
    "data['vm_mfinanciacion_limite'] = data[['Master_mfinanciacion_limite', 'Visa_mfinanciacion_limite']].sum(axis=1, skipna=True)\n",
    "data['vm_Fvencimiento'] = data[['Master_Fvencimiento', 'Visa_Fvencimiento']].min(axis=1, skipna=True)\n",
    "data['vm_Finiciomora'] = data[['Master_Finiciomora', 'Visa_Finiciomora']].min(axis=1, skipna=True)\n",
    "data['vm_msaldototal'] = data[['Master_msaldototal', 'Visa_msaldototal']].sum(axis=1, skipna=True)\n",
    "data['vm_msaldopesos'] = data[['Master_msaldopesos', 'Visa_msaldopesos']].sum(axis=1, skipna=True)\n",
    "data['vm_msaldodolares'] = data[['Master_msaldodolares', 'Visa_msaldodolares']].sum(axis=1, skipna=True)\n",
    "data['vm_mconsumospesos'] = data[['Master_mconsumospesos', 'Visa_mconsumospesos']].sum(axis=1, skipna=True)\n",
    "data['vm_mconsumosdolares'] = data[['Master_mconsumosdolares', 'Visa_mconsumosdolares']].sum(axis=1, skipna=True)\n",
    "data['vm_mlimitecompra'] = data[['Master_mlimitecompra', 'Visa_mlimitecompra']].sum(axis=1, skipna=True)\n",
    "data['vm_madelantopesos'] = data[['Master_madelantopesos', 'Visa_madelantopesos']].sum(axis=1, skipna=True)\n",
    "data['vm_madelantodolares'] = data[['Master_madelantodolares', 'Visa_madelantodolares']].sum(axis=1, skipna=True)\n",
    "data['vm_fultimo_cierre'] = data[['Master_fultimo_cierre', 'Visa_fultimo_cierre']].max(axis=1, skipna=True)\n",
    "data['vm_mpagado'] = data[['Master_mpagado', 'Visa_mpagado']].sum(axis=1, skipna=True)\n",
    "data['vm_mpagospesos'] = data[['Master_mpagospesos', 'Visa_mpagospesos']].sum(axis=1, skipna=True)\n",
    "data['vm_mpagosdolares'] = data[['Master_mpagosdolares', 'Visa_mpagosdolares']].sum(axis=1, skipna=True)\n",
    "data['vm_fechaalta'] = data[['Master_fechaalta', 'Visa_fechaalta']].max(axis=1, skipna=True)\n",
    "data['vm_mconsumototal'] = data[['Master_mconsumototal', 'Visa_mconsumototal']].sum(axis=1, skipna=True)\n",
    "data['vm_cconsumos'] = data[['Master_cconsumos', 'Visa_cconsumos']].sum(axis=1, skipna=True)\n",
    "data['vm_cadelantosefectivo'] = data[['Master_cadelantosefectivo', 'Visa_cadelantosefectivo']].sum(axis=1, skipna=True)\n",
    "data['vm_mpagominimo'] = data[['Master_mpagominimo', 'Visa_mpagominimo']].sum(axis=1, skipna=True)\n",
    "\n",
    "# Variables de ratios\n",
    "data['vmr_Master_mlimitecompra'] = data['Master_mlimitecompra'] / data['vm_mlimitecompra']\n",
    "data['vmr_Visa_mlimitecompra'] = data['Visa_mlimitecompra'] / data['vm_mlimitecompra']\n",
    "data['vmr_msaldototal'] = data['vm_msaldototal'] / data['vm_mlimitecompra']\n",
    "data['vmr_msaldopesos'] = data['vm_msaldopesos'] / data['vm_mlimitecompra']\n",
    "data['vmr_msaldopesos2'] = data['vm_msaldopesos'] / data['vm_msaldototal']\n",
    "data['vmr_msaldodolares'] = data['vm_msaldodolares'] / data['vm_mlimitecompra']\n",
    "data['vmr_msaldodolares2'] = data['vm_msaldodolares'] / data['vm_msaldototal']\n",
    "data['vmr_mconsumospesos'] = data['vm_mconsumospesos'] / data['vm_mlimitecompra']\n",
    "data['vmr_mconsumosdolares'] = data['vm_mconsumosdolares'] / data['vm_mlimitecompra']\n",
    "data['vmr_madelantopesos'] = data['vm_madelantopesos'] / data['vm_mlimitecompra']\n",
    "data['vmr_madelantodolares'] = data['vm_madelantodolares'] / data['vm_mlimitecompra']\n",
    "data['vmr_mpagado'] = data['vm_mpagado'] / data['vm_mlimitecompra']\n",
    "data['vmr_mpagospesos'] = data['vm_mpagospesos'] / data['vm_mlimitecompra']\n",
    "data['vmr_mpagosdolares'] = data['vm_mpagosdolares'] / data['vm_mlimitecompra']\n",
    "data['vmr_mconsumototal'] = data['vm_mconsumototal'] / data['vm_mlimitecompra']\n",
    "data['vmr_mpagominimo'] = data['vm_mpagominimo'] / data['vm_mlimitecompra']\n",
    "\n",
    "\n",
    "\n",
    "# Filtramos solo las columnas numéricas\n",
    "numeric_cols = data.select_dtypes(include=[np.number])\n",
    "\n",
    "# Reemplazo valores infinitos con NaN solo en las columnas numéricas\n",
    "infinitos_qty = np.isinf(numeric_cols).sum().sum()\n",
    "if infinitos_qty > 0:\n",
    "    print(f\"ATENCIÓN: Hay {infinitos_qty} valores infinitos en tu dataset. Serán pasados a NaN.\")\n",
    "    data[numeric_cols.columns] = numeric_cols.replace([np.inf, -np.inf], np.nan)\n",
    "\n",
    "# Valvula de seguridad para evitar valores NaN\n",
    "nans_qty = data.isna().sum().sum()\n",
    "if nans_qty > 0:\n",
    "    print(f\"ATENCIÓN: Hay {nans_qty} valores NaN en tu dataset. Serán pasados arbitrariamente a 0.\")\n",
    "    # Reemplazo valores NaN con 0\n",
    "    data.fillna(0, inplace=True)\n"
   ]
  },
  {
   "cell_type": "code",
   "execution_count": null,
   "metadata": {},
   "outputs": [],
   "source": [
    "# Definimos las columnas que NO vamos a utilizar para crear los lags\n",
    "campitos = [\"numero_de_cliente\", \"foto_mes\", \"clase_ternaria\"]\n",
    "\n",
    "# Seleccionamos todas las columnas lagueables (que no están en campitos)\n",
    "cols_lagueables = [col for col in data.columns if col not in campitos]\n",
    "\n",
    "# Ordenamos el DataFrame por 'numero_de_cliente' y 'foto_mes'\n",
    "data.sort_values(by=[\"numero_de_cliente\", \"foto_mes\"], inplace=True)\n",
    "\n",
    "# Creamos los lags de orden 1 para las columnas en cols_lagueables\n",
    "for col in cols_lagueables:\n",
    "    # Creamos la columna lag1 (desplazamiento hacia abajo de 1 periodo)\n",
    "    data[f\"{col}_lag1\"] = data.groupby(\"numero_de_cliente\")[col].shift(1)\n",
    "\n",
    "# Creamos los delta lags de orden 1\n",
    "for col in cols_lagueables:\n",
    "    # Calculamos la diferencia entre el valor actual y el valor lag1\n",
    "    data[f\"{col}_delta1\"] = data[col] - data[f\"{col}_lag1\"]"
   ]
  },
  {
   "cell_type": "code",
   "execution_count": null,
   "metadata": {
    "executionInfo": {
     "elapsed": 469,
     "status": "ok",
     "timestamp": 1729447139419,
     "user": {
      "displayName": "Alejandro Bolaños",
      "userId": "15513030842131101305"
     },
     "user_tz": 180
    },
    "id": "5iEEz8KraRZ1"
   },
   "outputs": [],
   "source": [
    "Xtrain = data[data['foto_mes'] == 202104]#agregar meses\n",
    "ytrain = Xtrain[\"clase_ternaria\"].map(lambda x: 0 if x == \"CONTINUA\" else 1)"
   ]
  },
  {
   "cell_type": "code",
   "execution_count": null,
   "metadata": {
    "executionInfo": {
     "elapsed": 2,
     "status": "ok",
     "timestamp": 1729447139420,
     "user": {
      "displayName": "Alejandro Bolaños",
      "userId": "15513030842131101305"
     },
     "user_tz": 180
    },
    "id": "cevQrP0aaRZ3"
   },
   "outputs": [],
   "source": [
    "Xtrain = Xtrain.drop(\"clase_ternaria\", axis=1)"
   ]
  },
  {
   "cell_type": "markdown",
   "metadata": {
    "id": "WU89THJaaRZ3"
   },
   "source": [
    "Hacemos un modelo **LGBM**"
   ]
  },
  {
   "cell_type": "code",
   "execution_count": null,
   "metadata": {
    "executionInfo": {
     "elapsed": 6389,
     "status": "ok",
     "timestamp": 1729447145807,
     "user": {
      "displayName": "Alejandro Bolaños",
      "userId": "15513030842131101305"
     },
     "user_tz": 180
    },
    "id": "gJFi741zaRZ3"
   },
   "outputs": [],
   "source": [
    "lgb_train = lgb.Dataset(Xtrain, ytrain)\n",
    "\n",
    "params = {\n",
    "    'objective': 'binary',\n",
    "    'learning_rate': 0.01,\n",
    "    'verbose': 2,\n",
    "    'max_bin': 15,\n",
    "    'min_data_in_leaf': 500,\n",
    "    'verbose': 0,\n",
    "}\n",
    "\n",
    "gbm = lgb.train(params,\n",
    "                lgb_train,\n",
    "                num_boost_round=100)\n"
   ]
  },
  {
   "cell_type": "code",
   "execution_count": null,
   "metadata": {
    "colab": {
     "base_uri": "https://localhost:8080/",
     "height": 424
    },
    "executionInfo": {
     "elapsed": 6,
     "status": "ok",
     "timestamp": 1729447145808,
     "user": {
      "displayName": "Alejandro Bolaños",
      "userId": "15513030842131101305"
     },
     "user_tz": 180
    },
    "id": "igeVgb3MaRZ4",
    "outputId": "04dd398c-5b81-4c80-bc77-b0feffc0732b"
   },
   "outputs": [],
   "source": [
    "lgbm_importancia = pd.DataFrame({'Features': gbm.feature_name(),\n",
    "                        'Importances': gbm.feature_importance()})\n",
    "lgbm_importancia.sort_values(by='Importances', inplace=True, ascending=False)\n",
    "lgbm_importancia\n"
   ]
  },
  {
   "cell_type": "code",
   "execution_count": null,
   "metadata": {
    "colab": {
     "base_uri": "https://localhost:8080/"
    },
    "executionInfo": {
     "elapsed": 165372,
     "status": "ok",
     "timestamp": 1729447311176,
     "user": {
      "displayName": "Alejandro Bolaños",
      "userId": "15513030842131101305"
     },
     "user_tz": 180
    },
    "id": "dRhywfaAaRZ5",
    "outputId": "057bae50-3dcf-409d-c5df-57adb88c9836"
   },
   "outputs": [],
   "source": [
    "explainer = shap.TreeExplainer(gbm)\n",
    "shap_values = explainer.shap_values(Xtrain)"
   ]
  },
  {
   "cell_type": "markdown",
   "metadata": {
    "id": "o5X7LfoXaRZ5"
   },
   "source": [
    "Consolidamos los valores de **SHAP** para cada variable y para cada **BAJA+\\***"
   ]
  },
  {
   "cell_type": "code",
   "execution_count": null,
   "metadata": {
    "colab": {
     "base_uri": "https://localhost:8080/",
     "height": 444
    },
    "executionInfo": {
     "elapsed": 314,
     "status": "ok",
     "timestamp": 1729447559128,
     "user": {
      "displayName": "Alejandro Bolaños",
      "userId": "15513030842131101305"
     },
     "user_tz": 180
    },
    "id": "GIxeFGeKaRZ5",
    "outputId": "1c5f9673-0a08-43cb-aa9a-8860dc99632d"
   },
   "outputs": [],
   "source": [
    "shap_df = pd.DataFrame(shap_values, columns = Xtrain.columns)\n",
    "shap_df"
   ]
  },
  {
   "cell_type": "markdown",
   "metadata": {
    "id": "SvUoqzoqJ2iQ"
   },
   "source": [
    "Calculamos la importancia de las variables usando SHAP\n"
   ]
  },
  {
   "cell_type": "code",
   "execution_count": null,
   "metadata": {
    "colab": {
     "base_uri": "https://localhost:8080/",
     "height": 424
    },
    "executionInfo": {
     "elapsed": 714,
     "status": "ok",
     "timestamp": 1729448313925,
     "user": {
      "displayName": "Alejandro Bolaños",
      "userId": "15513030842131101305"
     },
     "user_tz": 180
    },
    "id": "sv4KdkYvIh_E",
    "outputId": "c4b19cdc-d3da-43da-fad5-6521392887c6"
   },
   "outputs": [],
   "source": [
    "shap_importancia = pd.DataFrame(np.abs(shap_values).mean(0), columns=['SHAP Importance'])\n",
    "shap_importancia['Feature'] = Xtrain.columns\n",
    "shap_importancia.sort_values('SHAP Importance', ascending=False, inplace=True)\n",
    "shap_importancia\n",
    "\n"
   ]
  },
  {
   "cell_type": "markdown",
   "metadata": {
    "id": "lmKDT3NTaRZ5"
   },
   "source": [
    "La librería nos da útiles herramientas para vizualizar la info anterior"
   ]
  },
  {
   "cell_type": "code",
   "execution_count": null,
   "metadata": {
    "colab": {
     "base_uri": "https://localhost:8080/",
     "height": 841
    },
    "executionInfo": {
     "elapsed": 32677,
     "status": "ok",
     "timestamp": 1729447613650,
     "user": {
      "displayName": "Alejandro Bolaños",
      "userId": "15513030842131101305"
     },
     "user_tz": 180
    },
    "id": "SEF-xuD8aRZ5",
    "outputId": "f937015b-9bf1-4e87-d717-5bcfd028e17e"
   },
   "outputs": [],
   "source": [
    "shap.summary_plot(shap_values, Xtrain)\n"
   ]
  },
  {
   "cell_type": "code",
   "execution_count": null,
   "metadata": {},
   "outputs": [],
   "source": [
    "#dropear las variables no importantes y prestamos"
   ]
  },
  {
   "cell_type": "code",
   "execution_count": null,
   "metadata": {},
   "outputs": [],
   "source": [
    "# Extraer una lista de los nombres de las características con importancia 0\n",
    "columnas_cero = columnas_importancia_cero['Feature'].tolist()\n",
    "\n",
    "# Mostrar los nombres de las columnas\n",
    "print(columnas_cero)\n",
    "\n",
    "\n"
   ]
  },
  {
   "cell_type": "code",
   "execution_count": null,
   "metadata": {},
   "outputs": [],
   "source": []
  },
  {
   "cell_type": "code",
   "execution_count": null,
   "metadata": {},
   "outputs": [],
   "source": [
    "\n",
    "data.drop(['cprestamos_personales', 'mprestamos_personales'], axis=1, inplace=True)"
   ]
  },
  {
   "cell_type": "code",
   "execution_count": null,
   "metadata": {},
   "outputs": [],
   "source": [
    "data.drop(['Master_msaldodolares', 'Master_mconsumototal', 'Visa_Finiciomora', 'Visa_delinquency', 'Visa_msaldodolares', 'Master_cadelantosefectivo', 'Visa_cadelantosefectivo', 'matm', 'catm_trx_other', 'matm_other', 'Master_cconsumos', 'cmobile_app_trx', 'Visa_mpagosdolares', 'Master_delinquency', 'Visa_mconsumototal', 'Visa_madelantopesos', 'Master_mpagado', 'Master_madelantodolares', 'Master_madelantopesos', 'Visa_madelantodolares', 'Master_Finiciomora', 'Visa_fultimo_cierre', 'ccajas_otras', 'mforex_buy', 'ccajas_extracciones', 'ctarjeta_master_debitos_automaticos', 'cpayroll2_trx', 'mpayroll2', 'cseguro_accidentes_personales', 'cseguro_vivienda', 'cseguro_auto', 'cseguro_vida', 'minversion2', 'cinversion2', 'minversion1_dolares', 'minversion1_pesos', 'cinversion1', 'mplazo_fijo_pesos', 'mplazo_fijo_dolares', 'cplazo_fijo', 'mprestamos_hipotecarios', 'cprestamos_hipotecarios', 'mprestamos_prendarios', 'cprestamos_prendarios', 'ctarjeta_debito_transacciones', 'mcaja_ahorro_adicional', 'mcuenta_corriente_adicional', 'ccuenta_corriente', 'cliente_vip', 'mttarjeta_visa_debitos_automaticos', 'mttarjeta_master_debitos_automaticos', 'ccajas_depositos', 'cpagodeservicios', 'mcheques_emitidos_rechazados', 'ccheques_emitidos_rechazados', 'mcheques_depositados_rechazados', 'ccheques_depositados_rechazados', 'mcheques_emitidos', 'ccheques_emitidos', 'mcheques_depositados', 'ccheques_depositados', 'mextraccion_autoservicio', 'mtransferencias_emitidas', 'mforex_sell', 'cforex_sell', 'foto_mes', 'cforex_buy', 'cforex', 'mtarjeta_master_descuentos', 'ctarjeta_master_descuentos', 'mtarjeta_visa_descuentos', 'ctarjeta_visa_descuentos', 'mcajeros_propios_descuentos', 'ccajeros_propios_descuentos', 'cpagomiscuentas', 'mpagodeservicios', 'periodo'], axis=1, inplace=True)"
   ]
  },
  {
   "cell_type": "code",
   "execution_count": null,
   "metadata": {},
   "outputs": [],
   "source": [
    "data['clase_ternaria'].fillna('BAJA+2', inplace=True)"
   ]
  },
  {
   "cell_type": "code",
   "execution_count": null,
   "metadata": {},
   "outputs": [],
   "source": []
  },
  {
   "cell_type": "code",
   "execution_count": null,
   "metadata": {},
   "outputs": [],
   "source": []
  }
 ],
 "metadata": {
  "colab": {
   "provenance": []
  },
  "kernelspec": {
   "display_name": "Python 3",
   "language": "python",
   "name": "python3"
  },
  "language_info": {
   "codemirror_mode": {
    "name": "ipython",
    "version": 3
   },
   "file_extension": ".py",
   "mimetype": "text/x-python",
   "name": "python",
   "nbconvert_exporter": "python",
   "pygments_lexer": "ipython3",
   "version": "3.10.12"
  },
  "orig_nbformat": 4
 },
 "nbformat": 4,
 "nbformat_minor": 0
}
