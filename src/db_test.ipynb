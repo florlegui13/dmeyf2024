{
 "cells": [
  {
   "cell_type": "code",
   "execution_count": null,
   "metadata": {},
   "outputs": [],
   "source": [
    "%pip install python-dotenv\n",
    "\n",
    "import os\n",
    "import optuna\n",
    "from dotenv import load_dotenv\n",
    "\n",
    "load_dotenv()\n",
    "\n",
    "dataset_path = os.getenv('DATASET_PATH')\n",
    "\n",
    "# Define the storage name (absolute path recommended)\n",
    "#storage_name = f\"sqlite:///{os.path.abspath(dataset_path)}optimization_lgbm.db\"\n",
    "\n",
    "storage_name = \"sqlite:///\" + dataset_path + \"optimization_lgbm.db\"\n",
    "\n",
    "study = optuna.create_study(\n",
    "    direction=\"maximize\",\n",
    "    study_name=\"exp_301_lgbm\",\n",
    "    storage=storage_name,\n",
    "    load_if_exists=True\n",
    ")\n",
    "\n",
    "print(\"Optuna study initialized successfully!\")"
   ]
  }
 ],
 "metadata": {
  "kernelspec": {
   "display_name": "Python 3",
   "language": "python",
   "name": "python3"
  },
  "language_info": {
   "codemirror_mode": {
    "name": "ipython",
    "version": 3
   },
   "file_extension": ".py",
   "mimetype": "text/x-python",
   "name": "python",
   "nbconvert_exporter": "python",
   "pygments_lexer": "ipython3",
   "version": "3.10.12"
  }
 },
 "nbformat": 4,
 "nbformat_minor": 2
}
